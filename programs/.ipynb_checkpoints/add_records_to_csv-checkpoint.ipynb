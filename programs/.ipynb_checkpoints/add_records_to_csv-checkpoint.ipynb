{
 "cells": [
  {
   "cell_type": "code",
   "execution_count": 18,
   "id": "15e29a72-06eb-4682-8701-468bd01848c1",
   "metadata": {},
   "outputs": [
    {
     "name": "stdin",
     "output_type": "stream",
     "text": [
      "Podaj nazwę funkcji na jakiej chcesz działać:  Pupi2\n",
      "funkcji nie ma w słowniku, czy dodać? (tak/nie) tak\n"
     ]
    },
    {
     "name": "stdout",
     "output_type": "stream",
     "text": [
      "{0: 'Pupi', 1: 'Pups', 2: 'Pupi2'}\n"
     ]
    },
    {
     "name": "stdin",
     "output_type": "stream",
     "text": [
      "Podaj nazwę funkcji na jakiej chcesz działać:  Pupi3\n",
      "funkcji nie ma w słowniku, czy dodać? (tak/nie) tak\n"
     ]
    },
    {
     "name": "stdout",
     "output_type": "stream",
     "text": [
      "{0: 'Pupi', 1: 'Pups', 2: 'Pupi2', 3: 'Pupi3'}\n"
     ]
    },
    {
     "name": "stdin",
     "output_type": "stream",
     "text": [
      "Podaj nazwę funkcji na jakiej chcesz działać:  q\n"
     ]
    },
    {
     "name": "stdout",
     "output_type": "stream",
     "text": [
      "zamykam program\n"
     ]
    }
   ],
   "source": [
    "# program do dodawania rekordów do listy w xls\n",
    "### dane przechowywane w strukturze pionowej\n",
    "### dla każdego rekordu jest automatycznie nadawane ID\n",
    "### dodający musi podać nazwę Funkcji - jeżeli Funkcja nie istnieje - dodaj ją najpierw do słownika funkcji\n",
    "### dodający musi podać nazwę Zadania\n",
    "\n",
    "\n",
    "funkcja_dict = {}\n",
    "\n",
    "funkcja = ''\n",
    "\n",
    "funkcja_dict[0] = 'Pupi'\n",
    "funkcja_dict[1] = 'Pups'\n",
    "\n",
    "\n",
    "# print(max(funkcja_dict))\n",
    "\n",
    "while funkcja != 'q':\n",
    "\n",
    "    funkcja = input('Podaj nazwę funkcji na jakiej chcesz działać: ')\n",
    "    if funkcja == 'q':\n",
    "        print('zamykam program')\n",
    "    else:\n",
    "        if funkcja in funkcja_dict.values():\n",
    "            print('Funkcja jest już w słowniku')\n",
    "          \n",
    "        else:\n",
    "            if input('funkcji nie ma w słowniku, czy dodać? (tak/nie)').lower() == 'tak':\n",
    "\n",
    "                funkcja_dict[max(funkcja_dict) + 1] = funkcja\n",
    "                print(funkcja_dict)\n",
    "            \n",
    "        \n"
   ]
  }
 ],
 "metadata": {
  "kernelspec": {
   "display_name": "Python 3 (ipykernel)",
   "language": "python",
   "name": "python3"
  },
  "language_info": {
   "codemirror_mode": {
    "name": "ipython",
    "version": 3
   },
   "file_extension": ".py",
   "mimetype": "text/x-python",
   "name": "python",
   "nbconvert_exporter": "python",
   "pygments_lexer": "ipython3",
   "version": "3.11.5"
  }
 },
 "nbformat": 4,
 "nbformat_minor": 5
}
