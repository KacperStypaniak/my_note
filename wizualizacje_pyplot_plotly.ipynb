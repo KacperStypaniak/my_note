{
 "cells": [
  {
   "cell_type": "markdown",
   "id": "f0eb6d83-0bdc-4fc5-8f91-4225b9b1ae0d",
   "metadata": {
    "jp-MarkdownHeadingCollapsed": true
   },
   "source": [
    "## histogramy pyplot"
   ]
  },
  {
   "cell_type": "code",
   "execution_count": null,
   "id": "63f22cb5-f63f-4e8f-baeb-0ccd3bbc223c",
   "metadata": {},
   "outputs": [],
   "source": [
    "# tworzenie histogramów, nakładanie dwóch różnych na siebie i dodawanie legendy\n",
    "\n",
    "\n",
    "# Histogram of conventional avg_price \n",
    "avocados[avocados['type']=='conventional']['avg_price'].hist()\n",
    "\n",
    "# Histogram of organic avg_price\n",
    "avocados[avocados['type']=='organic']['avg_price'].hist()\n",
    "\n",
    "# Add a legend\n",
    "plt.legend(['conventional','organic'])\n",
    "\n",
    "# Show the plot\n",
    "plt.show()\n",
    "\n",
    "\n",
    "\n",
    "----- zmiana ustawień histogramu\n",
    "\n",
    "# Modify bins to 20\n",
    "avocados[avocados[\"type\"] == \"conventional\"][\"avg_price\"].hist(bins = 20, alpha=0.5)\n",
    "\n",
    "# Modify bins to 20\n",
    "avocados[avocados[\"type\"] == \"organic\"][\"avg_price\"].hist(bins = 20, alpha=0.5)\n",
    "\n",
    "# Add a legend\n",
    "plt.legend([\"conventional\", \"organic\"])\n",
    "\n",
    "# Show the plot\n",
    "plt.show()"
   ]
  },
  {
   "cell_type": "markdown",
   "id": "946e4b81-9262-450a-84c8-47a0d736be6d",
   "metadata": {
    "jp-MarkdownHeadingCollapsed": true
   },
   "source": [
    "## wykres kolumnowy pyplot"
   ]
  },
  {
   "cell_type": "code",
   "execution_count": null,
   "id": "799211e0-7375-4cd0-beb3-5f9e04b43237",
   "metadata": {},
   "outputs": [],
   "source": [
    "# wykres kolumnowy\n",
    "\n",
    "# Import matplotlib.pyplot with alias plt\n",
    "import matplotlib.pyplot as plt\n",
    "\n",
    "# Look at the first few rows of data\n",
    "print(avocados.head())\n",
    "\n",
    "# Get the total number of avocados sold of each size\n",
    "nb_sold_by_size = avocados.groupby('size')['nb_sold'].agg(sum)\n",
    "\n",
    "\n",
    "# Create a bar plot of the number of avocados sold by size\n",
    "nb_sold_by_size.plot(kind='bar')\n",
    "\n",
    "\n",
    "# Show the plot\n",
    "plt.show()"
   ]
  },
  {
   "cell_type": "markdown",
   "id": "ab87b3db-a555-4fb7-9ed2-7d348d19f3ec",
   "metadata": {
    "jp-MarkdownHeadingCollapsed": true
   },
   "source": [
    "## wykres liniowy pyplot"
   ]
  },
  {
   "cell_type": "code",
   "execution_count": null,
   "id": "51be84b7-ca7e-444f-b979-f825daab2baf",
   "metadata": {},
   "outputs": [],
   "source": [
    "# wykres liniowy\n",
    "\n",
    "# Import matplotlib.pyplot with alias plt\n",
    "import matplotlib.pyplot as plt\n",
    "\n",
    "avocados\n",
    "\n",
    "# Get the total number of avocados sold on each date\n",
    "nb_sold_by_date = avocados.groupby('date')['nb_sold'].agg(sum)\n",
    "nb_sold_by_date\n",
    "\n",
    "# Create a line plot of the number of avocados sold by date\n",
    "nb_sold_by_date.plot(kind='line')\n",
    "\n",
    "# Show the plot\n",
    "plt.show()"
   ]
  },
  {
   "cell_type": "code",
   "execution_count": null,
   "id": "b22a9f74-cede-4bb4-9530-a253b36958dc",
   "metadata": {},
   "outputs": [],
   "source": [
    "# wykresy i histogramy pyplot\n",
    "import matplotlib.pyplot as plt\n",
    "\n",
    "x = [1,2,3,4,5,6]\n",
    "y=[9,8,7,6,5,4]\n",
    "\n",
    "plt.plot(x,y) # żeby konstruować wykresy nie potrzebujemy pandas, wystarczą zwykłe listy\n",
    "plt.show()\n",
    "plt.scatter(x,y)\n",
    "\n",
    "#plt.clf() # clf czyści to co ma być wyrysowane\n",
    "plt.show()\n",
    "\n",
    "\n",
    "# plt.xscale('log') # zmienia skalę na osi x na logarytmiczną\n",
    "\n",
    "\n",
    "#binsy to przedziały po prostu\n",
    "\n",
    "plt.hist(y, bins = 9)"
   ]
  },
  {
   "cell_type": "markdown",
   "id": "3d0200ee-7eff-45b1-92d4-616faddf300b",
   "metadata": {
    "jp-MarkdownHeadingCollapsed": true
   },
   "source": [
    "## wykres scatter pyplot"
   ]
  },
  {
   "cell_type": "code",
   "execution_count": null,
   "id": "a012a162-b391-4085-bd7f-877be5c31d6e",
   "metadata": {},
   "outputs": [],
   "source": [
    "# wykres rozsiania - scatter\n",
    "\n",
    "# Scatter plot of avg_price vs. nb_sold with title\n",
    "avocados.plot(kind='scatter',x='nb_sold',y='avg_price', title = 'Number of avocados sold vs. average price')\n",
    "\n",
    "# Show the plot\n",
    "plt.show()"
   ]
  },
  {
   "cell_type": "code",
   "execution_count": null,
   "id": "7c47d970-af0b-435d-ada8-b4c95a8425ce",
   "metadata": {},
   "outputs": [],
   "source": [
    "# ticks\n",
    "\n",
    "# Scatter plot\n",
    "plt.scatter(gdp_cap, life_exp)\n",
    "\n",
    "# Previous customizations\n",
    "plt.xscale('log') \n",
    "plt.xlabel('GDP per Capita [in USD]')\n",
    "plt.ylabel('Life Expectancy [in years]')\n",
    "plt.title('World Development in 2007')\n",
    "\n",
    "# Definition of tick_val and tick_lab\n",
    "tick_val = [1000, 10000, 100000] # określam punkty jakie interesują mnnie na skali x -- ustalam zmienną\n",
    "tick_lab = ['1k', '10k', '100k'] # określam jakie nazwy chcę by wyświetlały się na skali x -- ustalam zmienną\n",
    "\n",
    "# Adapt the ticks on the x-pltis\n",
    "\n",
    "plt.xticks(tick_val,tick_lab) #tu wrzucam te zmienne do funkcji xticks (analogicznie, mogłoby to być yticks)\n",
    "\n",
    "# After customizing, display the plot\n",
    "\n",
    "plt.show()\n"
   ]
  },
  {
   "cell_type": "markdown",
   "id": "c489bb6b-bc71-4a3a-80ce-078732e79e78",
   "metadata": {
    "jp-MarkdownHeadingCollapsed": true
   },
   "source": [
    "## przykładowy wykres pyplot"
   ]
  },
  {
   "cell_type": "code",
   "execution_count": null,
   "id": "f489a85e-da9f-41eb-8127-7fa9ba686014",
   "metadata": {},
   "outputs": [],
   "source": [
    "# wykres ludności Polski\n",
    "\n",
    "lata = [1800,\n",
    "1846,\n",
    "1911,\n",
    "1921,\n",
    "1931,\n",
    "1938,\n",
    "1946,\n",
    "1950,\n",
    "1960,\n",
    "1970,\n",
    "1978,\n",
    "1988,\n",
    "1990,\n",
    "1995,\n",
    "2000,\n",
    "2005,\n",
    "2009,\n",
    "2010,\n",
    "2011,\n",
    "2013,\n",
    "2015,\n",
    "2017,\n",
    "2018,\n",
    "2019,\n",
    "2021,\n",
    "2023]\n",
    "\n",
    "pop = [9000000,\n",
    "11107000,\n",
    "22110000,\n",
    "27177000,\n",
    "32107000,\n",
    "34849000,\n",
    "23930000,\n",
    "25008000,\n",
    "29776000,\n",
    "32642000,\n",
    "35061000,\n",
    "37879000,\n",
    "38183000,\n",
    "38610000,\n",
    "38654000,\n",
    "38191000,\n",
    "38167000,\n",
    "38530000,\n",
    "38538000,\n",
    "38496000,\n",
    "38437000,\n",
    "38434000,\n",
    "38411000,\n",
    "38383000,\n",
    "38100000,\n",
    "37698000    \n",
    "]\n",
    "\n",
    "\n",
    "import matplotlib.pyplot as plt\n",
    "import numpy as np\n",
    "\n",
    "\n",
    "fig = plt.figure(figsize = (14,5),facecolor='#D4EED0', edgecolor = 'yellow')\n",
    "ax = fig.add_subplot(111)\n",
    "ax.set_facecolor(\"#FBFEFB\")\n",
    "\n",
    "plt.plot(lata,pop, color = 'black',marker = 'o', ms = 5, mec = 'red',mfc = 'white', linewidth = 1)\n",
    "\n",
    "# plt.yscale('linear')\n",
    "plt.yticks([10000000, 20000000, 30000000,40000000],['10 mln','20 mln','30 mln','40 mln'], fontsize = 12, color = 'darkred')\n",
    "plt.ylabel('ludność', {'fontname':'Verdana'}, fontsize = 12, labelpad = 30, loc = 'bottom')\n",
    "\n",
    "# plt.xticks([1800,1850,1900,1918,1939,1945,1950,1960,1970,1980,1990,2000,2010,2020,2023],rotation = 90)\n",
    "plt.xticks([1800,1825,1850,1875,1900,1925,1950,1975,2000,2025],rotation = 90)\n",
    "\n",
    "plt.xlabel('rok', {'fontname':'Verdana'}, fontsize = 12, labelpad = 30, loc = 'left')\n",
    "\n",
    "plt.grid(which = \"major\", linestyle = ':', color = 'green', linewidth = 0.9)\n",
    "plt.grid(which = \"minor\", axis = 'y', linestyle = ':', color = 'green', linewidth = 0.4)\n",
    "plt.minorticks_on()\n",
    "\n",
    "plt.axhline(np.mean(pop), color='grey', label= f'średnia z {len(lata)} pomiarów', linestyle='--', linewidth=1)\n",
    "plt.legend()\n",
    "\n",
    "plt.text(1918-3, 10_000_000, \"Odzyskanie niepodległości\", rotation = 90, fontsize = 7)\n",
    "plt.axvline(1918, color='blue', linestyle='--', linewidth=1)\n",
    "\n",
    "plt.text(1939-2, 10_000_000, \"Wybuch II WŚ\", rotation = 90, fontsize = 7)\n",
    "plt.axvline(1939, color='red', linestyle='--', linewidth=1)\n",
    "\n",
    "plt.text(1945-2, 10_000_000, \"Koniec II WŚ\", rotation = 90, fontsize = 7)\n",
    "plt.axvline(1945, color='red', linestyle='--', linewidth=1)\n",
    "\n",
    "plt.text(1989-3, 10_000_000, \"Upadek komunizmu\", rotation = 90, fontsize = 7)\n",
    "plt.axvline(1989, color='blue', linestyle='--', linewidth=1)\n",
    "\n",
    "plt.text(2004-3, 10_000_000, \"Wejście do Unii Europejskiej\", rotation = 90, fontsize = 7)\n",
    "plt.axvline(2004, color='blue', linestyle='--', linewidth=1)\n",
    "\n",
    "plt.annotate('pierwszy pomiar', xy=(1800,9_000_000), xytext=(1800,14_000_000),\n",
    "            arrowprops=dict(facecolor='black', shrink=100),\n",
    "            )\n",
    "\n",
    "\n",
    "plt.savefig('wykres_populacja_Polski')"
   ]
  }
 ],
 "metadata": {
  "kernelspec": {
   "display_name": "Python 3 (ipykernel)",
   "language": "python",
   "name": "python3"
  },
  "language_info": {
   "codemirror_mode": {
    "name": "ipython",
    "version": 3
   },
   "file_extension": ".py",
   "mimetype": "text/x-python",
   "name": "python",
   "nbconvert_exporter": "python",
   "pygments_lexer": "ipython3",
   "version": "3.11.5"
  }
 },
 "nbformat": 4,
 "nbformat_minor": 5
}
