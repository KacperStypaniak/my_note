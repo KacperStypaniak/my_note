{
 "cells": [
  {
   "cell_type": "code",
   "execution_count": 15,
   "id": "c74e60bd-bb52-489e-b10b-9eca57518e67",
   "metadata": {},
   "outputs": [
    {
     "name": "stdout",
     "output_type": "stream",
     "text": [
      "[25.25951557 19.57633309 27.1468144  19.36247266]\n",
      "[False  True False  True]\n",
      "[19.57633309 19.36247266]\n",
      "[True, 1, 2, 3, 4, 1, 4, 6, 7, False]\n",
      "[ 2  5  8 10  4]\n"
     ]
    }
   ],
   "source": [
    "import numpy as np\n",
    "\n",
    "weight = [73, 67, 98, 54]\n",
    "height = [1.7, 1.85, 1.9, 1.67]\n",
    "\n",
    "np_weight = np.array(weight)\n",
    "np_height = np.array(height)\n",
    "\n",
    "bmi = np_weight / np_height **2\n",
    "\n",
    "print(bmi)\n",
    "\n",
    "light = bmi < 21\n",
    "\n",
    "\n",
    "print(light)\n",
    "\n",
    "print(bmi[light])  ## to gówno filtruje arraya \n",
    "\n",
    "\n",
    "\n",
    "a = [True, 1, 2 , 3, 4] + [1, 4, 6, 7, False] ## listy zachowują się inaczej niż arraye\n",
    "print(a)\n",
    "\n",
    "\n",
    "b = np.array([True, 1, 2 , 3, 4]) + np.array([1, 4, 6, 7, False])  ## arraye zachowują się inaczej niż listy\n",
    "\n",
    "print(b)"
   ]
  },
  {
   "cell_type": "code",
   "execution_count": 3,
   "id": "be7b834e-26b3-4121-bb43-7a275e0cdc49",
   "metadata": {},
   "outputs": [
    {
     "name": "stdout",
     "output_type": "stream",
     "text": [
      "<class 'numpy.ndarray'>\n",
      "(4, 2)\n",
      "[[180, 78.4], [215, 102.7], [210, 98.5], [188, 75.2]]\n",
      "[[180.   78.4]\n",
      " [215.  102.7]\n",
      " [210.   98.5]\n",
      " [188.   75.2]]\n"
     ]
    }
   ],
   "source": [
    "import numpy as np\n",
    "\n",
    "# arraye w numpy mogą mieć od 1 do 7 wymiarów\n",
    "# przykład dwuwymiaowej\n",
    "\n",
    "baseball = [[180, 78.4],\n",
    "            [215, 102.7],\n",
    "            [210, 98.5],\n",
    "            [188, 75.2]]\n",
    "\n",
    "# Create a 2D numpy array from baseball: np_baseball\n",
    "\n",
    "np_baseball = np.array(baseball)\n",
    "\n",
    "# Print out the type of np_baseball\n",
    "\n",
    "print(type(np_baseball))\n",
    "\n",
    "# Print out the shape of np_baseball\n",
    "\n",
    "print(np_baseball.shape)\n",
    "\n",
    "\n",
    "print(baseball)\n",
    "print(np_baseball)"
   ]
  },
  {
   "cell_type": "code",
   "execution_count": null,
   "id": "6051c8a8-b973-4ebf-8bdd-53c5af08e4f7",
   "metadata": {},
   "outputs": [],
   "source": [
    "# wyjmowanie wartości z array\n",
    "\n",
    "# Import numpy package\n",
    "import numpy as np\n",
    "\n",
    "# Create np_baseball (2 cols)\n",
    "np_baseball = np.array(baseball)\n",
    "\n",
    "# Print out the 50th row of np_baseball\n",
    "\n",
    "print(np_baseball[49])\n",
    "\n",
    "# Select the entire second column of np_baseball: np_weight_lb\n",
    "\n",
    "np_weight_lb = np_baseball[:,1]\n",
    "np_weight_lb\n",
    "\n",
    "# Print out height of 124th player\n",
    "\n",
    "print(np_baseball[123,0])"
   ]
  },
  {
   "cell_type": "code",
   "execution_count": 19,
   "id": "e6995525-9d20-42e0-aab3-d24daf4991f7",
   "metadata": {},
   "outputs": [
    {
     "data": {
      "text/plain": [
       "array([[1.        , 0.95941114],\n",
       "       [0.95941114, 1.        ]])"
      ]
     },
     "execution_count": 19,
     "metadata": {},
     "output_type": "execute_result"
    }
   ],
   "source": [
    "#korelacja corrcoef\n",
    "\n",
    "import numpy as np\n",
    "\n",
    "x = np.array([1 , 2 , 3 , 4 , 5 , 6])\n",
    "y = np.array([6 , 5 , 4 , 3 , 2 , 1])\n",
    "\n",
    "\n",
    "np.corrcoef(x,y)\n",
    "\n",
    "\n",
    "x = np.array([1000 , 200 , 300 , 40 , 50000 , 60])\n",
    "y = np.array([6000 , 5 , 40 , 3 , 20000 , 1])\n",
    "\n",
    "\n",
    "np.corrcoef(x,y)\n",
    "\n"
   ]
  },
  {
   "cell_type": "code",
   "execution_count": 20,
   "id": "0e3ab137-6d8d-49d7-af7a-a8b92cafa063",
   "metadata": {},
   "outputs": [
    {
     "name": "stdout",
     "output_type": "stream",
     "text": [
      "Macierz korelacji:\n",
      "[[1.         0.97737832]\n",
      " [0.97737832 1.        ]]\n",
      "\n",
      "Współczynnik korelacji między czasem nauki a wynikami egzaminu: 0.9773783247351188\n"
     ]
    }
   ],
   "source": [
    "import numpy as np\n",
    "\n",
    "# Dane: ilość czasu nauki w godzinach i wyniki egzaminacyjne\n",
    "czas_nauki = np.array([10, 9, 6, 7, 8, 12, 5, 4, 8, 11])\n",
    "wyniki_egzaminu = np.array([85, 88, 75, 78, 80, 92, 70, 68, 82, 90])\n",
    "\n",
    "# Obliczenie macierzy korelacji\n",
    "macierz_korelacji = np.corrcoef(czas_nauki, wyniki_egzaminu)\n",
    "\n",
    "# Wyświetlenie wyniku\n",
    "print(\"Macierz korelacji:\")\n",
    "print(macierz_korelacji)\n",
    "\n",
    "# Wypisanie współczynnika korelacji między czasem nauki a wynikami egzaminu\n",
    "korelacja = macierz_korelacji[0, 1]\n",
    "print(\"\\nWspółczynnik korelacji między czasem nauki a wynikami egzaminu:\", korelacja)"
   ]
  },
  {
   "cell_type": "code",
   "execution_count": 27,
   "id": "954b32a6-5171-4938-a553-4ec25f8cde00",
   "metadata": {},
   "outputs": [
    {
     "name": "stdout",
     "output_type": "stream",
     "text": [
      "['pupi']\n"
     ]
    }
   ],
   "source": [
    "osoby = np.array(['pupi','kacper','kitki'])\n",
    "\n",
    "numerek = np.array([8 , 13 , 11])\n",
    "\n",
    "numerek[osoby == 'pupi']\n",
    "\n",
    "\n",
    "\n",
    "print(osoby[osoby == 'pupi'])"
   ]
  }
 ],
 "metadata": {
  "kernelspec": {
   "display_name": "Python 3 (ipykernel)",
   "language": "python",
   "name": "python3"
  },
  "language_info": {
   "codemirror_mode": {
    "name": "ipython",
    "version": 3
   },
   "file_extension": ".py",
   "mimetype": "text/x-python",
   "name": "python",
   "nbconvert_exporter": "python",
   "pygments_lexer": "ipython3",
   "version": "3.11.5"
  }
 },
 "nbformat": 4,
 "nbformat_minor": 5
}
