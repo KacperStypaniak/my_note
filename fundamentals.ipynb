{
 "cells": [
  {
   "cell_type": "markdown",
   "id": "591e938b-b0ef-442e-b316-eb4c3af2ecaa",
   "metadata": {
    "jp-MarkdownHeadingCollapsed": true
   },
   "source": [
    "## display zamiast print"
   ]
  },
  {
   "cell_type": "code",
   "execution_count": 4,
   "id": "39ff59ee-9df2-4e6f-8ecf-9912905f2116",
   "metadata": {},
   "outputs": [
    {
     "data": {
      "text/html": [
       "<div>\n",
       "<style scoped>\n",
       "    .dataframe tbody tr th:only-of-type {\n",
       "        vertical-align: middle;\n",
       "    }\n",
       "\n",
       "    .dataframe tbody tr th {\n",
       "        vertical-align: top;\n",
       "    }\n",
       "\n",
       "    .dataframe thead th {\n",
       "        text-align: right;\n",
       "    }\n",
       "</style>\n",
       "<table border=\"1\" class=\"dataframe\">\n",
       "  <thead>\n",
       "    <tr style=\"text-align: right;\">\n",
       "      <th></th>\n",
       "      <th>Pieski</th>\n",
       "      <th>Wiek</th>\n",
       "    </tr>\n",
       "  </thead>\n",
       "  <tbody>\n",
       "    <tr>\n",
       "      <th>0</th>\n",
       "      <td>Morgan</td>\n",
       "      <td>8</td>\n",
       "    </tr>\n",
       "    <tr>\n",
       "      <th>1</th>\n",
       "      <td>Basia</td>\n",
       "      <td>6</td>\n",
       "    </tr>\n",
       "    <tr>\n",
       "      <th>2</th>\n",
       "      <td>Nela</td>\n",
       "      <td>6</td>\n",
       "    </tr>\n",
       "    <tr>\n",
       "      <th>3</th>\n",
       "      <td>Dexter</td>\n",
       "      <td>5</td>\n",
       "    </tr>\n",
       "  </tbody>\n",
       "</table>\n",
       "</div>"
      ],
      "text/plain": [
       "   Pieski  Wiek\n",
       "0  Morgan     8\n",
       "1   Basia     6\n",
       "2    Nela     6\n",
       "3  Dexter     5"
      ]
     },
     "metadata": {},
     "output_type": "display_data"
    },
    {
     "name": "stdout",
     "output_type": "stream",
     "text": [
      "to so wszystkie pieski\n"
     ]
    }
   ],
   "source": [
    "import pandas as pd\n",
    "\n",
    "df = pd.DataFrame({'Pieski':['Morgan','Basia','Nela','Dexter'], 'Wiek':[8,6,6,5]})\n",
    "\n",
    "display(df)\n",
    "\n",
    "print('to so wszystkie pieski')"
   ]
  },
  {
   "cell_type": "markdown",
   "id": "b281bccc-c2f6-45a7-9927-0682cf493af8",
   "metadata": {
    "jp-MarkdownHeadingCollapsed": true
   },
   "source": [
    "## arraye, filtrowanie i operacje na nich"
   ]
  },
  {
   "cell_type": "code",
   "execution_count": 2,
   "id": "954b32a6-5171-4938-a553-4ec25f8cde00",
   "metadata": {},
   "outputs": [
    {
     "name": "stdout",
     "output_type": "stream",
     "text": [
      "[8]\n",
      "['pupi']\n"
     ]
    }
   ],
   "source": [
    "import numpy as np\n",
    "\n",
    "osoby = np.array(['pupi','kacper','kitki'])\n",
    "\n",
    "numerek = np.array([8 , 13 , 11])\n",
    "\n",
    "print(numerek[osoby == 'pupi'])\n",
    "\n",
    "\n",
    "print(osoby[osoby == 'pupi'])"
   ]
  },
  {
   "cell_type": "code",
   "execution_count": null,
   "id": "868020f9-f312-41aa-81aa-99da766ca87a",
   "metadata": {},
   "outputs": [],
   "source": [
    "import numpy as np\n",
    "\n",
    "x = [9,2,3,4] + [5,6,7,8,1]\n",
    "\n",
    "print(x.index(x.count(x[0])))"
   ]
  },
  {
   "cell_type": "code",
   "execution_count": 3,
   "id": "be7b834e-26b3-4121-bb43-7a275e0cdc49",
   "metadata": {},
   "outputs": [
    {
     "name": "stdout",
     "output_type": "stream",
     "text": [
      "<class 'numpy.ndarray'>\n",
      "(4, 2)\n",
      "[[180, 78.4], [215, 102.7], [210, 98.5], [188, 75.2]]\n",
      "[[180.   78.4]\n",
      " [215.  102.7]\n",
      " [210.   98.5]\n",
      " [188.   75.2]]\n"
     ]
    }
   ],
   "source": [
    "import numpy as np\n",
    "\n",
    "# arraye w numpy mogą mieć od 1 do 7 wymiarów\n",
    "# przykład dwuwymiaowej\n",
    "\n",
    "baseball = [[180, 78.4],\n",
    "            [215, 102.7],\n",
    "            [210, 98.5],\n",
    "            [188, 75.2]]\n",
    "\n",
    "# Create a 2D numpy array from baseball: np_baseball\n",
    "\n",
    "np_baseball = np.array(baseball)\n",
    "\n",
    "# Print out the type of np_baseball\n",
    "\n",
    "print(type(np_baseball))\n",
    "\n",
    "# Print out the shape of np_baseball\n",
    "\n",
    "print(np_baseball.shape)\n",
    "\n",
    "\n",
    "print(baseball)\n",
    "print(np_baseball)"
   ]
  },
  {
   "cell_type": "code",
   "execution_count": 1,
   "id": "c74e60bd-bb52-489e-b10b-9eca57518e67",
   "metadata": {},
   "outputs": [
    {
     "name": "stdout",
     "output_type": "stream",
     "text": [
      "[25.25951557 19.57633309 27.1468144  19.36247266]\n",
      "[False  True False  True]\n",
      "[19.57633309 19.36247266]\n",
      "[19.57633309 19.36247266]\n",
      "[True, 1, 2, 3, 4, 1, 4, 6, 7, False]\n",
      "[ 2  5  8 10  4]\n"
     ]
    }
   ],
   "source": [
    "# arraye, operacje matematyczne na nich i ich filtrowanie jednym warunkiem\n",
    "\n",
    "import numpy as np\n",
    "\n",
    "weight = [73, 67, 98, 54]\n",
    "height = [1.7, 1.85, 1.9, 1.67]\n",
    "\n",
    "np_weight = np.array(weight)\n",
    "np_height = np.array(height)\n",
    "\n",
    "bmi = np_weight / np_height **2\n",
    "\n",
    "print(bmi)\n",
    "\n",
    "light = bmi < 21 # w light tworzy się array wartości true/false\n",
    "\n",
    "\n",
    "print(light)\n",
    "\n",
    "print(bmi[light])  ## to gówno filtruje arraya \n",
    "\n",
    "print(bmi[bmi < 21])\n",
    "\n",
    "a = [True, 1, 2 , 3, 4] + [1, 4, 6, 7, False] ## listy zachowują się inaczej niż arraye\n",
    "print(a)\n",
    "\n",
    "\n",
    "b = np.array([True, 1, 2 , 3, 4]) + np.array([1, 4, 6, 7, False])  ## arraye zachowują się inaczej niż listy\n",
    "\n",
    "print(b)"
   ]
  },
  {
   "cell_type": "code",
   "execution_count": 16,
   "id": "5f0a1321-36ca-491e-8274-726da99c1f1d",
   "metadata": {},
   "outputs": [
    {
     "name": "stdout",
     "output_type": "stream",
     "text": [
      "[ True False False  True]\n",
      "[73 72]\n",
      "[ True  True False  True]\n",
      "[73 69 72]\n",
      "[False  True  True False]\n",
      "[69 63]\n",
      "[ True False False False]\n",
      "[73]\n",
      "[61]\n"
     ]
    }
   ],
   "source": [
    "# logiczne operatory a NumPy, filtrowanie wieloma warunkami\n",
    "\n",
    "import numpy as np\n",
    "\n",
    "weight_ks = [73, 69, 63, 72]\n",
    "weight_kz = [61, 59, 57, 58]\n",
    "\n",
    "np_weight_ks = np.array(weight_ks)\n",
    "np_weight_kz = np.array(weight_kz)\n",
    "\n",
    "# na jednym arrayu\n",
    "\n",
    "#logical_and\n",
    "\n",
    "print(np.logical_and(np_weight_ks > 70, np_weight_ks > 63))\n",
    "\n",
    "print(np_weight_ks[np.logical_and(np_weight_ks > 70, np_weight_ks > 63)])\n",
    "\n",
    "#logical_or\n",
    "\n",
    "print(np.logical_or(np_weight_ks > 70, np_weight_ks > 63))\n",
    "\n",
    "print(np_weight_ks[np.logical_or(np_weight_ks > 70, np_weight_ks > 63)])\n",
    "\n",
    "#logical_not \n",
    "\n",
    "print(np.logical_not(np_weight_ks > 70, np_weight_ks > 63))\n",
    "\n",
    "print(np_weight_ks[np.logical_not(np_weight_ks > 70, np_weight_ks > 63)])\n",
    "\n",
    "\n",
    "# na > 1 arrayu\n",
    "\n",
    "\n",
    "print(np.logical_and(np_weight_ks > 70, np_weight_kz >= 59))\n",
    "\n",
    "print(np_weight_ks[np.logical_and(np_weight_ks > 70, np_weight_kz >= 59)])\n",
    "print(np_weight_kz[np.logical_and(np_weight_ks > 70, np_weight_kz >= 59)])"
   ]
  },
  {
   "cell_type": "code",
   "execution_count": null,
   "id": "6051c8a8-b973-4ebf-8bdd-53c5af08e4f7",
   "metadata": {},
   "outputs": [],
   "source": [
    "# wyjmowanie wartości z array\n",
    "\n",
    "# Import numpy package\n",
    "import numpy as np\n",
    "\n",
    "# Create np_baseball (2 cols)\n",
    "np_baseball = np.array(baseball)\n",
    "\n",
    "# Print out the 50th row of np_baseball\n",
    "\n",
    "print(np_baseball[49])\n",
    "\n",
    "# Select the entire second column of np_baseball: np_weight_lb\n",
    "\n",
    "np_weight_lb = np_baseball[:,1]\n",
    "np_weight_lb\n",
    "\n",
    "# Print out height of 124th player\n",
    "\n",
    "print(np_baseball[123,0])"
   ]
  },
  {
   "cell_type": "code",
   "execution_count": null,
   "id": "d3ee7b89-4599-4453-a366-dde68fac29a3",
   "metadata": {},
   "outputs": [],
   "source": [
    "# dostęp do wartości w np.arrayach -- zarówno w jednowymiarowych, jak i wielowymiarowych [ 1 2 3] jak i [[1 2 3] [4 5 6]\n",
    "\n",
    "import numpy as np\n",
    "\n",
    "pojedynczy = np.array([1,2,3,4,5,6,7,8,9])\n",
    "\n",
    "for liczba in pojedynczy:\n",
    "    print(f'Liczba jest : {liczba}')\n",
    "\n",
    "podwojny = np.array([[1,22,333,4444,55555],[9,88,777,6666,55555]])\n",
    "\n",
    "for liczba in np.nditer(podwojny):\n",
    "    print(f'W drugim jest liczba: {liczba}')"
   ]
  },
  {
   "cell_type": "markdown",
   "id": "8ab9f954-c609-469c-bab3-e1614ba3c440",
   "metadata": {
    "jp-MarkdownHeadingCollapsed": true
   },
   "source": [
    "## korelacja corrcoef"
   ]
  },
  {
   "cell_type": "code",
   "execution_count": 19,
   "id": "e6995525-9d20-42e0-aab3-d24daf4991f7",
   "metadata": {},
   "outputs": [
    {
     "data": {
      "text/plain": [
       "array([[1.        , 0.95941114],\n",
       "       [0.95941114, 1.        ]])"
      ]
     },
     "execution_count": 19,
     "metadata": {},
     "output_type": "execute_result"
    }
   ],
   "source": [
    "#korelacja corrcoef\n",
    "\n",
    "import numpy as np\n",
    "\n",
    "x = np.array([1 , 2 , 3 , 4 , 5 , 6])\n",
    "y = np.array([6 , 5 , 4 , 3 , 2 , 1])\n",
    "\n",
    "\n",
    "np.corrcoef(x,y)\n",
    "\n",
    "\n",
    "x = np.array([1000 , 200 , 300 , 40 , 50000 , 60])\n",
    "y = np.array([6000 , 5 , 40 , 3 , 20000 , 1])\n",
    "\n",
    "\n",
    "np.corrcoef(x,y)\n",
    "\n"
   ]
  },
  {
   "cell_type": "code",
   "execution_count": 20,
   "id": "0e3ab137-6d8d-49d7-af7a-a8b92cafa063",
   "metadata": {},
   "outputs": [
    {
     "name": "stdout",
     "output_type": "stream",
     "text": [
      "Macierz korelacji:\n",
      "[[1.         0.97737832]\n",
      " [0.97737832 1.        ]]\n",
      "\n",
      "Współczynnik korelacji między czasem nauki a wynikami egzaminu: 0.9773783247351188\n"
     ]
    }
   ],
   "source": [
    "import numpy as np\n",
    "\n",
    "# Dane: ilość czasu nauki w godzinach i wyniki egzaminacyjne\n",
    "czas_nauki = np.array([10, 9, 6, 7, 8, 12, 5, 4, 8, 11])\n",
    "wyniki_egzaminu = np.array([85, 88, 75, 78, 80, 92, 70, 68, 82, 90])\n",
    "\n",
    "# Obliczenie macierzy korelacji\n",
    "macierz_korelacji = np.corrcoef(czas_nauki, wyniki_egzaminu)\n",
    "\n",
    "# Wyświetlenie wyniku\n",
    "print(\"Macierz korelacji:\")\n",
    "print(macierz_korelacji)\n",
    "\n",
    "# Wypisanie współczynnika korelacji między czasem nauki a wynikami egzaminu\n",
    "korelacja = macierz_korelacji[0, 1]\n",
    "print(\"\\nWspółczynnik korelacji między czasem nauki a wynikami egzaminu:\", korelacja)"
   ]
  },
  {
   "cell_type": "markdown",
   "id": "691c39e0-aa6f-41a8-8fb2-1da2a5cbdf85",
   "metadata": {
    "jp-MarkdownHeadingCollapsed": true
   },
   "source": [
    "## słowniki"
   ]
  },
  {
   "cell_type": "code",
   "execution_count": 1,
   "id": "41ed4017-abc1-4ad9-a027-b9ae2547534f",
   "metadata": {},
   "outputs": [
    {
     "data": {
      "text/plain": [
       "'rome'"
      ]
     },
     "execution_count": 1,
     "metadata": {},
     "output_type": "execute_result"
    }
   ],
   "source": [
    "# słowniki\n",
    "\n",
    "# Definition of dictionary\n",
    "europe = {'spain':'madrid', 'france':'paris', 'germany':'bonn',\n",
    "          'norway':'oslo', 'italy':'rome', 'poland':'warsaw',\n",
    "          'australia':'vienna' }\n",
    "\n",
    "#dodaj austrię\n",
    "\n",
    "europe['austria'] = 'vienna'\n",
    "\n",
    "# Update capital of germany\n",
    "\n",
    "europe['germany'] = 'berlin'\n",
    "\n",
    "# Remove australia\n",
    "\n",
    "del(europe['australia'])\n",
    "\n",
    "# Print europe\n",
    "\n",
    "europe\n",
    "\n",
    "\n",
    "europe['italy']"
   ]
  },
  {
   "cell_type": "code",
   "execution_count": 2,
   "id": "5c0e462b-6a1b-4b1d-a75a-9de99154082a",
   "metadata": {},
   "outputs": [
    {
     "name": "stdout",
     "output_type": "stream",
     "text": [
      "paris\n",
      "{'spain': {'capital': 'madrid', 'population': 46.77}, 'france': {'capital': 'paris', 'population': 66.03}, 'germany': {'capital': 'berlin', 'population': 80.62}, 'norway': {'capital': 'oslo', 'population': 5.084}, 'italy': {'capital': 'rome', 'population': 59.83}}\n"
     ]
    }
   ],
   "source": [
    "# słownik słowników\n",
    "\n",
    "# Dictionary of dictionaries\n",
    "europe = { 'spain': { 'capital':'madrid', 'population':46.77 },\n",
    "           'france': { 'capital':'paris', 'population':66.03 },\n",
    "           'germany': { 'capital':'berlin', 'population':80.62 },\n",
    "           'norway': { 'capital':'oslo', 'population':5.084 } }\n",
    "\n",
    "\n",
    "# Print out the capital of France\n",
    "\n",
    "print(europe['france']['capital'])\n",
    "\n",
    "# Create sub-dictionary data\n",
    "\n",
    "data = {'capital' : 'rome', 'population' : 59.83}\n",
    "\n",
    "# Add data to europe under key 'italy'\n",
    "\n",
    "europe['italy'] = data\n",
    "\n",
    "\n",
    "# Print europe\n",
    "\n",
    "\n",
    "print(europe)"
   ]
  },
  {
   "cell_type": "markdown",
   "id": "901e455d-0faa-468c-87fa-1ab2d43eefbd",
   "metadata": {
    "jp-MarkdownHeadingCollapsed": true
   },
   "source": [
    "## pętla po słowniku"
   ]
  },
  {
   "cell_type": "code",
   "execution_count": 1,
   "id": "f690d22a-98dc-4cf7-bdf3-9a9425c1f2dd",
   "metadata": {},
   "outputs": [
    {
     "name": "stdout",
     "output_type": "stream",
     "text": [
      "0 11.25\n",
      "1 18.0\n",
      "2 20.0\n",
      "3 10.75\n",
      "4 9.5\n"
     ]
    }
   ],
   "source": [
    "# for + enumerate -- dzięki temu ma też dostęp do indeksu danej wartości w liście\n",
    "\n",
    "# areas list\n",
    "areas = [11.25, 18.0, 20.0, 10.75, 9.50]\n",
    "\n",
    "# Change for loop to use enumerate() and update print()\n",
    "for index, area in enumerate(areas) :\n",
    "    print(index,area)"
   ]
  },
  {
   "cell_type": "code",
   "execution_count": 1,
   "id": "67fd5931-298d-49b5-a13b-6c6d2615e20e",
   "metadata": {},
   "outputs": [
    {
     "name": "stdout",
     "output_type": "stream",
     "text": [
      "spain -- madrid\n",
      "france -- paris\n",
      "germany -- berlin\n",
      "norway -- oslo\n",
      "italy -- rome\n",
      "poland -- warsaw\n",
      "austria -- vienna\n"
     ]
    }
   ],
   "source": [
    "# dostęp do kluczy i wartości słownika w pętli for\n",
    "\n",
    "# Definition of dictionary\n",
    "europe = {'spain':'madrid', 'france':'paris', 'germany':'berlin',\n",
    "          'norway':'oslo', 'italy':'rome', 'poland':'warsaw', 'austria':'vienna' }\n",
    "          \n",
    "# Iterate over europe\n",
    "\n",
    "for key,value in europe.items():\n",
    "    print(f'{key} -- {value}')"
   ]
  },
  {
   "cell_type": "markdown",
   "id": "8fb05bd2-cb1a-44d5-a214-3400a3c91b2f",
   "metadata": {
    "jp-MarkdownHeadingCollapsed": true
   },
   "source": [
    "## pętla po liście"
   ]
  },
  {
   "cell_type": "code",
   "execution_count": 2,
   "id": "fa461206-cb88-409c-8bb9-915287f40849",
   "metadata": {},
   "outputs": [
    {
     "name": "stdout",
     "output_type": "stream",
     "text": [
      "the hallway is 11.25 sqm\n",
      "the kitchen is 18.0 sqm\n",
      "the living room is 20.0 sqm\n",
      "the bedroom is 10.75 sqm\n",
      "the bathroom is 9.5 sqm\n"
     ]
    }
   ],
   "source": [
    "# dostęp do list w liście w pętli for\n",
    "\n",
    "# house list of lists\n",
    "house = [[\"hallway\", 11.25], \n",
    "         [\"kitchen\", 18.0], \n",
    "         [\"living room\", 20.0], \n",
    "         [\"bedroom\", 10.75], \n",
    "         [\"bathroom\", 9.50]]\n",
    "         \n",
    "# Build a for loop from scratch\n",
    "\n",
    "for list_ in (house):\n",
    "    print(f'the {list_[0]} is {list_[1]} sqm')"
   ]
  },
  {
   "cell_type": "code",
   "execution_count": null,
   "id": "46842a6f-dca2-4f2e-a1fb-e1a0470e4fa5",
   "metadata": {},
   "outputs": [],
   "source": [
    "#iteracja\n",
    "\n",
    "## pętelka for:\n",
    "\n",
    "# Create a list of strings: flash\n",
    "flash = ['jay garrick', 'barry allen', 'wally west', 'bart allen']\n",
    "\n",
    "# Print each list item in flash using a for loop\n",
    "for item in flash:\n",
    "    print(item)\n",
    "\n",
    "\n",
    "\n",
    "## ale może zostać zastąpiona iteracją:\n",
    "### TU JEST ITERACJA\n",
    "# # Create an iterator for flash: superhero\n",
    "\n",
    "superhero = iter(flash) # lista jest iterowalna, ale nie można iterować bezpośrednio po niej, trzeba określić ją metodą iter i wrzucić do zmiennej\n",
    "\n",
    "\n",
    "# Print each item from the iterator\n",
    "print(next(superhero))\n",
    "print(next(superhero))\n",
    "print(next(superhero))\n",
    "print(next(superhero))\n"
   ]
  },
  {
   "cell_type": "code",
   "execution_count": null,
   "id": "ca6efc3b-24c8-4f85-972c-cf6e90364325",
   "metadata": {},
   "outputs": [],
   "source": [
    "# enumerate\n",
    "\n",
    "# Create a list of strings: mutants\n",
    "mutants = ['charles xavier', \n",
    "            'bobby drake', \n",
    "            'kurt wagner', \n",
    "            'max eisenhardt', \n",
    "            'kitty pryde']\n",
    "\n",
    "# Create a list of tuples: mutant_list\n",
    "mutant_list = list(enumerate(mutants)) # tworzy listę krotek indeks - wartość \n",
    "\n",
    "# Print the list of tuples\n",
    "print(mutant_list)\n",
    "\n",
    "# Unpack and print the tuple pairs\n",
    "for index1,value1 in enumerate(mutants):\n",
    "    print(index1, value1)\n",
    "\n",
    "# Change the start index\n",
    "for index2,value2 in enumerate(mutants,start=1): # można mu określić startowy 'indeks'\n",
    "    print(index2, value2)\n"
   ]
  },
  {
   "cell_type": "markdown",
   "id": "9a1632f5-6deb-4671-918a-5ca8aff12c45",
   "metadata": {
    "jp-MarkdownHeadingCollapsed": true
   },
   "source": [
    "## krotki"
   ]
  },
  {
   "cell_type": "code",
   "execution_count": 4,
   "id": "1d7aa6c6-091e-4704-b4f4-1f3f0b00b46e",
   "metadata": {},
   "outputs": [
    {
     "name": "stdout",
     "output_type": "stream",
     "text": [
      "1\n",
      "4\n",
      "6\n"
     ]
    }
   ],
   "source": [
    "#tuple, krotki\n",
    "\n",
    "#elementów krotki po zdefiniowaniu nie można zmieniać\n",
    "#elementy krotki można wypakowywać do zmiennych\n",
    "\n",
    "nums = (1,4,6)\n",
    "\n",
    "num1,num2,num3 = nums\n",
    "\n",
    "print(num1)\n",
    "print(num2)\n",
    "print(num3)"
   ]
  },
  {
   "cell_type": "markdown",
   "id": "5445b5a0-0da1-4824-8dee-9f45e9fa121d",
   "metadata": {
    "jp-MarkdownHeadingCollapsed": true
   },
   "source": [
    "## zipowanie"
   ]
  },
  {
   "cell_type": "code",
   "execution_count": 12,
   "id": "9325ed37-a638-4698-9209-378c1c9fd766",
   "metadata": {},
   "outputs": [
    {
     "name": "stdout",
     "output_type": "stream",
     "text": [
      "('charles xavier', 'telepathy') ('bobby drake', 'thermokinesis') ('kurt wagner', 'teleportation') ('max eisenhardt', 'magnetokinesis') ('kitty pryde', 'intangibility')\n",
      "False\n",
      "False\n",
      "('charles xavier', 'bobby drake', 'kurt wagner', 'max eisenhardt', 'kitty pryde')\n",
      "('telepathy', 'thermokinesis', 'teleportation', 'magnetokinesis', 'intangibility')\n"
     ]
    }
   ],
   "source": [
    "# zipowanie\n",
    "\n",
    "mutants = ['charles xavier', 'bobby drake', 'kurt wagner', 'max eisenhardt', 'kitty pryde']\n",
    "powers = ['telepathy', 'thermokinesis', 'teleportation', 'magnetokinesis', 'intangibility']\n",
    "\n",
    "\n",
    "# Create a zip object from mutants and powers: z1\n",
    "z1 = zip(mutants,powers)\n",
    "\n",
    "\n",
    "# Print the tuples in z1 by unpacking with *\n",
    "print(*z1) # wypakowywanie elementów sprawia że z1 się zużywa\n",
    "\n",
    "# Re-create a zip object from mutants and powers: z1\n",
    "z1 = zip(mutants,powers) \n",
    "\n",
    "# 'Unzip' the tuples in z1 by unpacking with * and zip(): result1, result2\n",
    "result1, result2 = zip(*z1) # wypakowuję zipa krotek do zmiennych (które stają się krotkami)- 1 element z krotki idzie do result1, drugi do result2\n",
    "\n",
    "# # Check if unpacked tuples are equivalent to original tuples\n",
    "print(result1 == mutants) ## pierwotnie elementy były w listach, teraz są w krotkach, dlatego FALSE\n",
    "print(result2 == powers)  ## pierwotnie elementy były w listach, teraz są w krotkach, dlatego FALSE\n",
    "\n",
    "\n",
    "print(result1)\n",
    "print(result2)"
   ]
  },
  {
   "cell_type": "markdown",
   "id": "e0859c54-9057-44fa-a235-55d93f2114f8",
   "metadata": {
    "jp-MarkdownHeadingCollapsed": true
   },
   "source": [
    "## własna funkcja na liście"
   ]
  },
  {
   "cell_type": "code",
   "execution_count": 25,
   "id": "a1b43ddc-54cf-4ab4-b2f9-340b1b239135",
   "metadata": {},
   "outputs": [
    {
     "name": "stdout",
     "output_type": "stream",
     "text": [
      "['THOR', 'LALA']\n"
     ]
    }
   ],
   "source": [
    "superhero_list = ['thor','lala']\n",
    "\n",
    "def to_upper(heroes):\n",
    "    for i in heroes:\n",
    "        yield i.upper()\n",
    "    \n",
    "\n",
    "\n",
    "\n",
    "\n",
    "print(list(to_upper(superhero_list)))"
   ]
  }
 ],
 "metadata": {
  "kernelspec": {
   "display_name": "Python 3 (ipykernel)",
   "language": "python",
   "name": "python3"
  },
  "language_info": {
   "codemirror_mode": {
    "name": "ipython",
    "version": 3
   },
   "file_extension": ".py",
   "mimetype": "text/x-python",
   "name": "python",
   "nbconvert_exporter": "python",
   "pygments_lexer": "ipython3",
   "version": "3.11.5"
  }
 },
 "nbformat": 4,
 "nbformat_minor": 5
}
