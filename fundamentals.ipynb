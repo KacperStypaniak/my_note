{
 "cells": [
  {
   "cell_type": "code",
   "execution_count": 1,
   "id": "c74e60bd-bb52-489e-b10b-9eca57518e67",
   "metadata": {},
   "outputs": [
    {
     "name": "stdout",
     "output_type": "stream",
     "text": [
      "[25.25951557 19.57633309 27.1468144  19.36247266]\n",
      "[False  True False  True]\n",
      "[19.57633309 19.36247266]\n",
      "[19.57633309 19.36247266]\n",
      "[True, 1, 2, 3, 4, 1, 4, 6, 7, False]\n",
      "[ 2  5  8 10  4]\n"
     ]
    }
   ],
   "source": [
    "# arraye, operacje matematyczne na nich i ich filtrowanie jednym warunkiem\n",
    "\n",
    "import numpy as np\n",
    "\n",
    "weight = [73, 67, 98, 54]\n",
    "height = [1.7, 1.85, 1.9, 1.67]\n",
    "\n",
    "np_weight = np.array(weight)\n",
    "np_height = np.array(height)\n",
    "\n",
    "bmi = np_weight / np_height **2\n",
    "\n",
    "print(bmi)\n",
    "\n",
    "light = bmi < 21 # w light tworzy się array wartości true/false\n",
    "\n",
    "\n",
    "print(light)\n",
    "\n",
    "print(bmi[light])  ## to gówno filtruje arraya \n",
    "\n",
    "print(bmi[bmi < 21])\n",
    "\n",
    "a = [True, 1, 2 , 3, 4] + [1, 4, 6, 7, False] ## listy zachowują się inaczej niż arraye\n",
    "print(a)\n",
    "\n",
    "\n",
    "b = np.array([True, 1, 2 , 3, 4]) + np.array([1, 4, 6, 7, False])  ## arraye zachowują się inaczej niż listy\n",
    "\n",
    "print(b)"
   ]
  },
  {
   "cell_type": "code",
   "execution_count": 16,
   "id": "5f0a1321-36ca-491e-8274-726da99c1f1d",
   "metadata": {},
   "outputs": [
    {
     "name": "stdout",
     "output_type": "stream",
     "text": [
      "[ True False False  True]\n",
      "[73 72]\n",
      "[ True  True False  True]\n",
      "[73 69 72]\n",
      "[False  True  True False]\n",
      "[69 63]\n",
      "[ True False False False]\n",
      "[73]\n",
      "[61]\n"
     ]
    }
   ],
   "source": [
    "# logiczne operatory a NumPy, filtrowanie wieloma warunkami\n",
    "\n",
    "import numpy as np\n",
    "\n",
    "weight_ks = [73, 69, 63, 72]\n",
    "weight_kz = [61, 59, 57, 58]\n",
    "\n",
    "np_weight_ks = np.array(weight_ks)\n",
    "np_weight_kz = np.array(weight_kz)\n",
    "\n",
    "# na jednym arrayu\n",
    "\n",
    "#logical_and\n",
    "\n",
    "print(np.logical_and(np_weight_ks > 70, np_weight_ks > 63))\n",
    "\n",
    "print(np_weight_ks[np.logical_and(np_weight_ks > 70, np_weight_ks > 63)])\n",
    "\n",
    "#logical_or\n",
    "\n",
    "print(np.logical_or(np_weight_ks > 70, np_weight_ks > 63))\n",
    "\n",
    "print(np_weight_ks[np.logical_or(np_weight_ks > 70, np_weight_ks > 63)])\n",
    "\n",
    "#logical_not \n",
    "\n",
    "print(np.logical_not(np_weight_ks > 70, np_weight_ks > 63))\n",
    "\n",
    "print(np_weight_ks[np.logical_not(np_weight_ks > 70, np_weight_ks > 63)])\n",
    "\n",
    "\n",
    "# na > 1 arrayu\n",
    "\n",
    "\n",
    "print(np.logical_and(np_weight_ks > 70, np_weight_kz >= 59))\n",
    "\n",
    "print(np_weight_ks[np.logical_and(np_weight_ks > 70, np_weight_kz >= 59)])\n",
    "print(np_weight_kz[np.logical_and(np_weight_ks > 70, np_weight_kz >= 59)])"
   ]
  },
  {
   "cell_type": "code",
   "execution_count": 3,
   "id": "be7b834e-26b3-4121-bb43-7a275e0cdc49",
   "metadata": {},
   "outputs": [
    {
     "name": "stdout",
     "output_type": "stream",
     "text": [
      "<class 'numpy.ndarray'>\n",
      "(4, 2)\n",
      "[[180, 78.4], [215, 102.7], [210, 98.5], [188, 75.2]]\n",
      "[[180.   78.4]\n",
      " [215.  102.7]\n",
      " [210.   98.5]\n",
      " [188.   75.2]]\n"
     ]
    }
   ],
   "source": [
    "import numpy as np\n",
    "\n",
    "# arraye w numpy mogą mieć od 1 do 7 wymiarów\n",
    "# przykład dwuwymiaowej\n",
    "\n",
    "baseball = [[180, 78.4],\n",
    "            [215, 102.7],\n",
    "            [210, 98.5],\n",
    "            [188, 75.2]]\n",
    "\n",
    "# Create a 2D numpy array from baseball: np_baseball\n",
    "\n",
    "np_baseball = np.array(baseball)\n",
    "\n",
    "# Print out the type of np_baseball\n",
    "\n",
    "print(type(np_baseball))\n",
    "\n",
    "# Print out the shape of np_baseball\n",
    "\n",
    "print(np_baseball.shape)\n",
    "\n",
    "\n",
    "print(baseball)\n",
    "print(np_baseball)"
   ]
  },
  {
   "cell_type": "code",
   "execution_count": null,
   "id": "6051c8a8-b973-4ebf-8bdd-53c5af08e4f7",
   "metadata": {},
   "outputs": [],
   "source": [
    "# wyjmowanie wartości z array\n",
    "\n",
    "# Import numpy package\n",
    "import numpy as np\n",
    "\n",
    "# Create np_baseball (2 cols)\n",
    "np_baseball = np.array(baseball)\n",
    "\n",
    "# Print out the 50th row of np_baseball\n",
    "\n",
    "print(np_baseball[49])\n",
    "\n",
    "# Select the entire second column of np_baseball: np_weight_lb\n",
    "\n",
    "np_weight_lb = np_baseball[:,1]\n",
    "np_weight_lb\n",
    "\n",
    "# Print out height of 124th player\n",
    "\n",
    "print(np_baseball[123,0])"
   ]
  },
  {
   "cell_type": "code",
   "execution_count": 19,
   "id": "e6995525-9d20-42e0-aab3-d24daf4991f7",
   "metadata": {},
   "outputs": [
    {
     "data": {
      "text/plain": [
       "array([[1.        , 0.95941114],\n",
       "       [0.95941114, 1.        ]])"
      ]
     },
     "execution_count": 19,
     "metadata": {},
     "output_type": "execute_result"
    }
   ],
   "source": [
    "#korelacja corrcoef\n",
    "\n",
    "import numpy as np\n",
    "\n",
    "x = np.array([1 , 2 , 3 , 4 , 5 , 6])\n",
    "y = np.array([6 , 5 , 4 , 3 , 2 , 1])\n",
    "\n",
    "\n",
    "np.corrcoef(x,y)\n",
    "\n",
    "\n",
    "x = np.array([1000 , 200 , 300 , 40 , 50000 , 60])\n",
    "y = np.array([6000 , 5 , 40 , 3 , 20000 , 1])\n",
    "\n",
    "\n",
    "np.corrcoef(x,y)\n",
    "\n"
   ]
  },
  {
   "cell_type": "code",
   "execution_count": 20,
   "id": "0e3ab137-6d8d-49d7-af7a-a8b92cafa063",
   "metadata": {},
   "outputs": [
    {
     "name": "stdout",
     "output_type": "stream",
     "text": [
      "Macierz korelacji:\n",
      "[[1.         0.97737832]\n",
      " [0.97737832 1.        ]]\n",
      "\n",
      "Współczynnik korelacji między czasem nauki a wynikami egzaminu: 0.9773783247351188\n"
     ]
    }
   ],
   "source": [
    "import numpy as np\n",
    "\n",
    "# Dane: ilość czasu nauki w godzinach i wyniki egzaminacyjne\n",
    "czas_nauki = np.array([10, 9, 6, 7, 8, 12, 5, 4, 8, 11])\n",
    "wyniki_egzaminu = np.array([85, 88, 75, 78, 80, 92, 70, 68, 82, 90])\n",
    "\n",
    "# Obliczenie macierzy korelacji\n",
    "macierz_korelacji = np.corrcoef(czas_nauki, wyniki_egzaminu)\n",
    "\n",
    "# Wyświetlenie wyniku\n",
    "print(\"Macierz korelacji:\")\n",
    "print(macierz_korelacji)\n",
    "\n",
    "# Wypisanie współczynnika korelacji między czasem nauki a wynikami egzaminu\n",
    "korelacja = macierz_korelacji[0, 1]\n",
    "print(\"\\nWspółczynnik korelacji między czasem nauki a wynikami egzaminu:\", korelacja)"
   ]
  },
  {
   "cell_type": "code",
   "execution_count": 27,
   "id": "954b32a6-5171-4938-a553-4ec25f8cde00",
   "metadata": {},
   "outputs": [
    {
     "name": "stdout",
     "output_type": "stream",
     "text": [
      "['pupi']\n"
     ]
    }
   ],
   "source": [
    "osoby = np.array(['pupi','kacper','kitki'])\n",
    "\n",
    "numerek = np.array([8 , 13 , 11])\n",
    "\n",
    "numerek[osoby == 'pupi']\n",
    "\n",
    "\n",
    "\n",
    "print(osoby[osoby == 'pupi'])"
   ]
  },
  {
   "cell_type": "code",
   "execution_count": 9,
   "id": "5b7339fc-8fff-415f-9709-bdb994f84600",
   "metadata": {},
   "outputs": [
    {
     "data": {
      "image/png": "[encoded data removed]",
      "text/plain": [
       "<Figure size 640x480 with 1 Axes>"
      ]
     },
     "metadata": {},
     "output_type": "display_data"
    },
    {
     "data": {
      "image/png": "[encoded data removed]",
      "text/plain": [
       "<Figure size 640x480 with 1 Axes>"
      ]
     },
     "metadata": {},
     "output_type": "display_data"
    },
    {
     "data": {
      "text/plain": [
       "(array([1., 1., 0., 1., 0., 1., 0., 1., 1.]),\n",
       " array([4.        , 4.55555556, 5.11111111, 5.66666667, 6.22222222,\n",
       "        6.77777778, 7.33333333, 7.88888889, 8.44444444, 9.        ]),\n",
       " <BarContainer object of 9 artists>)"
      ]
     },
     "execution_count": 9,
     "metadata": {},
     "output_type": "execute_result"
    },
    {
     "data": {
      "image/png": "[encoded data removed]",
      "text/plain": [
       "<Figure size 640x480 with 1 Axes>"
      ]
     },
     "metadata": {},
     "output_type": "display_data"
    }
   ],
   "source": [
    "# wykresy i histogramy pyplot\n",
    "import matplotlib.pyplot as plt\n",
    "\n",
    "x = [1,2,3,4,5,6]\n",
    "y=[9,8,7,6,5,4]\n",
    "\n",
    "plt.plot(x,y) # żeby konstruować wykresy nie potrzebujemy pandas, wystarczą zwykłe listy\n",
    "plt.show()\n",
    "plt.scatter(x,y)\n",
    "\n",
    "#plt.clf() # clf czyści to co ma być wyrysowane\n",
    "plt.show()\n",
    "\n",
    "\n",
    "# plt.xscale('log') # zmienia skalę na osi x na logarytmiczną\n",
    "\n",
    "\n",
    "#binsy to przedziały po prostu\n",
    "\n",
    "plt.hist(y, bins = 9)"
   ]
  },
  {
   "cell_type": "code",
   "execution_count": null,
   "id": "3932c584-160f-426f-bada-bddbe75a9caf",
   "metadata": {},
   "outputs": [],
   "source": [
    "# ticks\n",
    "\n",
    "# Scatter plot\n",
    "plt.scatter(gdp_cap, life_exp)\n",
    "\n",
    "# Previous customizations\n",
    "plt.xscale('log') \n",
    "plt.xlabel('GDP per Capita [in USD]')\n",
    "plt.ylabel('Life Expectancy [in years]')\n",
    "plt.title('World Development in 2007')\n",
    "\n",
    "# Definition of tick_val and tick_lab\n",
    "tick_val = [1000, 10000, 100000] # określam punkty jakie interesują mnnie na skali x -- ustalam zmienną\n",
    "tick_lab = ['1k', '10k', '100k'] # określam jakie nazwy chcę by wyświetlały się na skali x -- ustalam zmienną\n",
    "\n",
    "# Adapt the ticks on the x-pltis\n",
    "\n",
    "plt.xticks(tick_val,tick_lab) #tu wrzucam te zmienne do funkcji xticks (analogicznie, mogłoby to być yticks)\n",
    "\n",
    "# After customizing, display the plot\n",
    "\n",
    "plt.show()\n",
    "\n",
    "\n",
    "\n",
    "\n",
    "\n",
    "\n",
    "\n",
    "\n"
   ]
  },
  {
   "cell_type": "code",
   "execution_count": 190,
   "id": "8d1ed701-a0ce-48d4-92ae-3c936c229bfa",
   "metadata": {},
   "outputs": [
    {
     "data": {
      "image/png": "[encoded data removed]",
      "text/plain": [
       "<Figure size 1400x500 with 1 Axes>"
      ]
     },
     "metadata": {},
     "output_type": "display_data"
    }
   ],
   "source": [
    "# wykres ludności Polski\n",
    "\n",
    "lata = [1800,\n",
    "1846,\n",
    "1911,\n",
    "1921,\n",
    "1931,\n",
    "1938,\n",
    "1946,\n",
    "1950,\n",
    "1960,\n",
    "1970,\n",
    "1978,\n",
    "1988,\n",
    "1990,\n",
    "1995,\n",
    "2000,\n",
    "2005,\n",
    "2009,\n",
    "2010,\n",
    "2011,\n",
    "2013,\n",
    "2015,\n",
    "2017,\n",
    "2018,\n",
    "2019,\n",
    "2021,\n",
    "2023]\n",
    "\n",
    "pop = [9000000,\n",
    "11107000,\n",
    "22110000,\n",
    "27177000,\n",
    "32107000,\n",
    "34849000,\n",
    "23930000,\n",
    "25008000,\n",
    "29776000,\n",
    "32642000,\n",
    "35061000,\n",
    "37879000,\n",
    "38183000,\n",
    "38610000,\n",
    "38654000,\n",
    "38191000,\n",
    "38167000,\n",
    "38530000,\n",
    "38538000,\n",
    "38496000,\n",
    "38437000,\n",
    "38434000,\n",
    "38411000,\n",
    "38383000,\n",
    "38100000,\n",
    "37698000    \n",
    "]\n",
    "\n",
    "\n",
    "import matplotlib.pyplot as plt\n",
    "import numpy as np\n",
    "\n",
    "\n",
    "fig = plt.figure(figsize = (14,5),facecolor='#D4EED0', edgecolor = 'yellow')\n",
    "ax = fig.add_subplot(111)\n",
    "ax.set_facecolor(\"#FBFEFB\")\n",
    "\n",
    "plt.plot(lata,pop, color = 'black',marker = 'o', ms = 5, mec = 'red',mfc = 'white', linewidth = 1)\n",
    "\n",
    "# plt.yscale('linear')\n",
    "plt.yticks([10000000, 20000000, 30000000,40000000],['10 mln','20 mln','30 mln','40 mln'], fontsize = 12, color = 'darkred')\n",
    "plt.ylabel('ludność', {'fontname':'Verdana'}, fontsize = 12, labelpad = 30, loc = 'bottom')\n",
    "\n",
    "# plt.xticks([1800,1850,1900,1918,1939,1945,1950,1960,1970,1980,1990,2000,2010,2020,2023],rotation = 90)\n",
    "plt.xticks([1800,1825,1850,1875,1900,1925,1950,1975,2000,2025],rotation = 90)\n",
    "\n",
    "plt.xlabel('rok', {'fontname':'Verdana'}, fontsize = 12, labelpad = 30, loc = 'left')\n",
    "\n",
    "plt.grid(which = \"major\", linestyle = ':', color = 'green', linewidth = 0.9)\n",
    "plt.grid(which = \"minor\", axis = 'y', linestyle = ':', color = 'green', linewidth = 0.4)\n",
    "plt.minorticks_on()\n",
    "\n",
    "plt.axhline(np.mean(pop), color='grey', label= f'średnia z {len(lata)} pomiarów', linestyle='--', linewidth=1)\n",
    "plt.legend()\n",
    "\n",
    "plt.text(1918-3, 10_000_000, \"Odzyskanie niepodległości\", rotation = 90, fontsize = 7)\n",
    "plt.axvline(1918, color='blue', linestyle='--', linewidth=1)\n",
    "\n",
    "plt.text(1939-2, 10_000_000, \"Wybuch II WŚ\", rotation = 90, fontsize = 7)\n",
    "plt.axvline(1939, color='red', linestyle='--', linewidth=1)\n",
    "\n",
    "plt.text(1945-2, 10_000_000, \"Koniec II WŚ\", rotation = 90, fontsize = 7)\n",
    "plt.axvline(1945, color='red', linestyle='--', linewidth=1)\n",
    "\n",
    "plt.text(1989-3, 10_000_000, \"Upadek komunizmu\", rotation = 90, fontsize = 7)\n",
    "plt.axvline(1989, color='blue', linestyle='--', linewidth=1)\n",
    "\n",
    "plt.text(2004-3, 10_000_000, \"Wejście do Unii Europejskiej\", rotation = 90, fontsize = 7)\n",
    "plt.axvline(2004, color='blue', linestyle='--', linewidth=1)\n",
    "\n",
    "plt.annotate('pierwszy pomiar', xy=(1800,9_000_000), xytext=(1800,14_000_000),\n",
    "            arrowprops=dict(facecolor='black', shrink=100),\n",
    "            )\n",
    "\n",
    "\n",
    "plt.savefig('wykres_populacja_Polski')"
   ]
  },
  {
   "cell_type": "code",
   "execution_count": 1,
   "id": "41ed4017-abc1-4ad9-a027-b9ae2547534f",
   "metadata": {},
   "outputs": [
    {
     "data": {
      "text/plain": [
       "{'spain': 'madrid',\n",
       " 'france': 'paris',\n",
       " 'germany': 'berlin',\n",
       " 'norway': 'oslo',\n",
       " 'italy': 'rome',\n",
       " 'poland': 'warsaw',\n",
       " 'austria': 'vienna'}"
      ]
     },
     "execution_count": 1,
     "metadata": {},
     "output_type": "execute_result"
    }
   ],
   "source": [
    "# słowniki\n",
    "\n",
    "# Definition of dictionary\n",
    "europe = {'spain':'madrid', 'france':'paris', 'germany':'bonn',\n",
    "          'norway':'oslo', 'italy':'rome', 'poland':'warsaw',\n",
    "          'australia':'vienna' }\n",
    "\n",
    "#dodaj austrię\n",
    "\n",
    "europe['austria'] = 'vienna'\n",
    "\n",
    "# Update capital of germany\n",
    "\n",
    "europe['germany'] = 'berlin'\n",
    "\n",
    "# Remove australia\n",
    "\n",
    "del(europe['australia'])\n",
    "\n",
    "# Print europe\n",
    "\n",
    "europe"
   ]
  },
  {
   "cell_type": "code",
   "execution_count": 2,
   "id": "5c0e462b-6a1b-4b1d-a75a-9de99154082a",
   "metadata": {},
   "outputs": [
    {
     "name": "stdout",
     "output_type": "stream",
     "text": [
      "paris\n",
      "{'spain': {'capital': 'madrid', 'population': 46.77}, 'france': {'capital': 'paris', 'population': 66.03}, 'germany': {'capital': 'berlin', 'population': 80.62}, 'norway': {'capital': 'oslo', 'population': 5.084}, 'italy': {'capital': 'rome', 'population': 59.83}}\n"
     ]
    }
   ],
   "source": [
    "# słownik słowników\n",
    "\n",
    "# Dictionary of dictionaries\n",
    "europe = { 'spain': { 'capital':'madrid', 'population':46.77 },\n",
    "           'france': { 'capital':'paris', 'population':66.03 },\n",
    "           'germany': { 'capital':'berlin', 'population':80.62 },\n",
    "           'norway': { 'capital':'oslo', 'population':5.084 } }\n",
    "\n",
    "\n",
    "# Print out the capital of France\n",
    "\n",
    "print(europe['france']['capital'])\n",
    "\n",
    "# Create sub-dictionary data\n",
    "\n",
    "data = {'capital' : 'rome', 'population' : 59.83}\n",
    "\n",
    "# Add data to europe under key 'italy'\n",
    "\n",
    "europe['italy'] = data\n",
    "\n",
    "\n",
    "# Print europe\n",
    "\n",
    "\n",
    "print(europe)"
   ]
  },
  {
   "cell_type": "code",
   "execution_count": 1,
   "id": "f690d22a-98dc-4cf7-bdf3-9a9425c1f2dd",
   "metadata": {},
   "outputs": [
    {
     "name": "stdout",
     "output_type": "stream",
     "text": [
      "0 11.25\n",
      "1 18.0\n",
      "2 20.0\n",
      "3 10.75\n",
      "4 9.5\n"
     ]
    }
   ],
   "source": [
    "# for + enumerate -- dzięki temu ma też dostęp do indeksu danej wartości w liście\n",
    "\n",
    "# areas list\n",
    "areas = [11.25, 18.0, 20.0, 10.75, 9.50]\n",
    "\n",
    "# Change for loop to use enumerate() and update print()\n",
    "for index, area in enumerate(areas) :\n",
    "    print(index,area)"
   ]
  },
  {
   "cell_type": "code",
   "execution_count": 2,
   "id": "fa461206-cb88-409c-8bb9-915287f40849",
   "metadata": {},
   "outputs": [
    {
     "name": "stdout",
     "output_type": "stream",
     "text": [
      "the hallway is 11.25 sqm\n",
      "the kitchen is 18.0 sqm\n",
      "the living room is 20.0 sqm\n",
      "the bedroom is 10.75 sqm\n",
      "the bathroom is 9.5 sqm\n"
     ]
    }
   ],
   "source": [
    "# dostęp do list w liście w pętli for\n",
    "\n",
    "# house list of lists\n",
    "house = [[\"hallway\", 11.25], \n",
    "         [\"kitchen\", 18.0], \n",
    "         [\"living room\", 20.0], \n",
    "         [\"bedroom\", 10.75], \n",
    "         [\"bathroom\", 9.50]]\n",
    "         \n",
    "# Build a for loop from scratch\n",
    "\n",
    "for list_ in (house):\n",
    "    print(f'the {list_[0]} is {list_[1]} sqm')"
   ]
  },
  {
   "cell_type": "code",
   "execution_count": 1,
   "id": "67fd5931-298d-49b5-a13b-6c6d2615e20e",
   "metadata": {},
   "outputs": [
    {
     "name": "stdout",
     "output_type": "stream",
     "text": [
      "spain -- madrid\n",
      "france -- paris\n",
      "germany -- berlin\n",
      "norway -- oslo\n",
      "italy -- rome\n",
      "poland -- warsaw\n",
      "austria -- vienna\n"
     ]
    }
   ],
   "source": [
    "# dostęp do kluczy i wartości słownika w pętli for\n",
    "\n",
    "# Definition of dictionary\n",
    "europe = {'spain':'madrid', 'france':'paris', 'germany':'berlin',\n",
    "          'norway':'oslo', 'italy':'rome', 'poland':'warsaw', 'austria':'vienna' }\n",
    "          \n",
    "# Iterate over europe\n",
    "\n",
    "for key,value in europe.items():\n",
    "    print(f'{key} -- {value}')"
   ]
  },
  {
   "cell_type": "code",
   "execution_count": 16,
   "id": "460e9c23-8550-4016-9713-d0acbbe753c4",
   "metadata": {},
   "outputs": [
    {
     "name": "stdout",
     "output_type": "stream",
     "text": [
      "Liczba jest : 1\n",
      "Liczba jest : 2\n",
      "Liczba jest : 3\n",
      "Liczba jest : 4\n",
      "Liczba jest : 5\n",
      "Liczba jest : 6\n",
      "Liczba jest : 7\n",
      "Liczba jest : 8\n",
      "Liczba jest : 9\n",
      "W drugim jest liczba: 1\n",
      "W drugim jest liczba: 22\n",
      "W drugim jest liczba: 333\n",
      "W drugim jest liczba: 4444\n",
      "W drugim jest liczba: 55555\n",
      "W drugim jest liczba: 9\n",
      "W drugim jest liczba: 88\n",
      "W drugim jest liczba: 777\n",
      "W drugim jest liczba: 6666\n",
      "W drugim jest liczba: 55555\n"
     ]
    }
   ],
   "source": [
    "# dostęp do wartości w np.arrayach -- zarówno w jednowymiarowych, jak i wielowymiarowych [ 1 2 3] jak i [[1 2 3] [4 5 6]\n",
    "\n",
    "import numpy as np\n",
    "\n",
    "pojedynczy = np.array([1,2,3,4,5,6,7,8,9])\n",
    "\n",
    "for liczba in pojedynczy:\n",
    "    print(f'Liczba jest : {liczba}')\n",
    "\n",
    "podwojny = np.array([[1,22,333,4444,55555],[9,88,777,6666,55555]])\n",
    "\n",
    "for liczba in np.nditer(podwojny):\n",
    "    print(f'W drugim jest liczba: {liczba}')"
   ]
  },
  {
   "cell_type": "code",
   "execution_count": 4,
   "id": "1d7aa6c6-091e-4704-b4f4-1f3f0b00b46e",
   "metadata": {},
   "outputs": [
    {
     "name": "stdout",
     "output_type": "stream",
     "text": [
      "1\n",
      "4\n",
      "6\n"
     ]
    }
   ],
   "source": [
    "#tuple, krotki\n",
    "\n",
    "#elementów krotki po zdefiniowaniu nie można zmieniać\n",
    "#elementy krotki można wypakowywać do zmiennych\n",
    "\n",
    "nums = (1,4,6)\n",
    "\n",
    "num1,num2,num3 = nums\n",
    "\n",
    "print(num1)\n",
    "print(num2)\n",
    "print(num3)"
   ]
  },
  {
   "cell_type": "code",
   "execution_count": 16,
   "id": "1bb4ee86-11bb-470b-8441-fcea85aca4ad",
   "metadata": {},
   "outputs": [
    {
     "name": "stdout",
     "output_type": "stream",
     "text": [
      "8\n"
     ]
    }
   ],
   "source": [
    "import numpy as np\n",
    "\n",
    "x = [9,2,3,4] + [5,6,7,8,1]\n",
    "\n",
    "print(x.index(x.count(x[0])))"
   ]
  }
 ],
 "metadata": {
  "kernelspec": {
   "display_name": "Python 3 (ipykernel)",
   "language": "python",
   "name": "python3"
  },
  "language_info": {
   "codemirror_mode": {
    "name": "ipython",
    "version": 3
   },
   "file_extension": ".py",
   "mimetype": "text/x-python",
   "name": "python",
   "nbconvert_exporter": "python",
   "pygments_lexer": "ipython3",
   "version": "3.11.5"
  }
 },
 "nbformat": 4,
 "nbformat_minor": 5
}
