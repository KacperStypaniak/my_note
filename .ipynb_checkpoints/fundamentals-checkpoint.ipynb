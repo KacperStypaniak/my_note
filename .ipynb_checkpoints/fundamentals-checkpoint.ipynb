{
 "cells": [
  {
   "cell_type": "code",
   "execution_count": 15,
   "id": "c74e60bd-bb52-489e-b10b-9eca57518e67",
   "metadata": {},
   "outputs": [
    {
     "name": "stdout",
     "output_type": "stream",
     "text": [
      "[25.25951557 19.57633309 27.1468144  19.36247266]\n",
      "[False  True False  True]\n",
      "[19.57633309 19.36247266]\n",
      "[True, 1, 2, 3, 4, 1, 4, 6, 7, False]\n",
      "[ 2  5  8 10  4]\n"
     ]
    }
   ],
   "source": [
    "import numpy as np\n",
    "\n",
    "weight = [73, 67, 98, 54]\n",
    "height = [1.7, 1.85, 1.9, 1.67]\n",
    "\n",
    "np_weight = np.array(weight)\n",
    "np_height = np.array(height)\n",
    "\n",
    "bmi = np_weight / np_height **2\n",
    "\n",
    "print(bmi)\n",
    "\n",
    "light = bmi < 21\n",
    "\n",
    "\n",
    "print(light)\n",
    "\n",
    "print(bmi[light])  ## to gówno filtruje arraya \n",
    "\n",
    "\n",
    "\n",
    "a = [True, 1, 2 , 3, 4] + [1, 4, 6, 7, False] ## listy zachowują się inaczej niż arraye\n",
    "print(a)\n",
    "\n",
    "\n",
    "b = np.array([True, 1, 2 , 3, 4]) + np.array([1, 4, 6, 7, False])  ## arraye zachowują się inaczej niż listy\n",
    "\n",
    "print(b)"
   ]
  }
 ],
 "metadata": {
  "kernelspec": {
   "display_name": "Python 3 (ipykernel)",
   "language": "python",
   "name": "python3"
  },
  "language_info": {
   "codemirror_mode": {
    "name": "ipython",
    "version": 3
   },
   "file_extension": ".py",
   "mimetype": "text/x-python",
   "name": "python",
   "nbconvert_exporter": "python",
   "pygments_lexer": "ipython3",
   "version": "3.11.5"
  }
 },
 "nbformat": 4,
 "nbformat_minor": 5
}
