{
 "cells": [
  {
   "cell_type": "code",
   "execution_count": 15,
   "id": "c74e60bd-bb52-489e-b10b-9eca57518e67",
   "metadata": {},
   "outputs": [
    {
     "name": "stdout",
     "output_type": "stream",
     "text": [
      "[25.25951557 19.57633309 27.1468144  19.36247266]\n",
      "[False  True False  True]\n",
      "[19.57633309 19.36247266]\n",
      "[True, 1, 2, 3, 4, 1, 4, 6, 7, False]\n",
      "[ 2  5  8 10  4]\n"
     ]
    }
   ],
   "source": [
    "import numpy as np\n",
    "\n",
    "weight = [73, 67, 98, 54]\n",
    "height = [1.7, 1.85, 1.9, 1.67]\n",
    "\n",
    "np_weight = np.array(weight)\n",
    "np_height = np.array(height)\n",
    "\n",
    "bmi = np_weight / np_height **2\n",
    "\n",
    "print(bmi)\n",
    "\n",
    "light = bmi < 21\n",
    "\n",
    "\n",
    "print(light)\n",
    "\n",
    "print(bmi[light])  ## to gówno filtruje arraya \n",
    "\n",
    "\n",
    "\n",
    "a = [True, 1, 2 , 3, 4] + [1, 4, 6, 7, False] ## listy zachowują się inaczej niż arraye\n",
    "print(a)\n",
    "\n",
    "\n",
    "b = np.array([True, 1, 2 , 3, 4]) + np.array([1, 4, 6, 7, False])  ## arraye zachowują się inaczej niż listy\n",
    "\n",
    "print(b)"
   ]
  },
  {
   "cell_type": "code",
   "execution_count": 3,
   "id": "be7b834e-26b3-4121-bb43-7a275e0cdc49",
   "metadata": {},
   "outputs": [
    {
     "name": "stdout",
     "output_type": "stream",
     "text": [
      "<class 'numpy.ndarray'>\n",
      "(4, 2)\n",
      "[[180, 78.4], [215, 102.7], [210, 98.5], [188, 75.2]]\n",
      "[[180.   78.4]\n",
      " [215.  102.7]\n",
      " [210.   98.5]\n",
      " [188.   75.2]]\n"
     ]
    }
   ],
   "source": [
    "import numpy as np\n",
    "\n",
    "# arraye w numpy mogą mieć od 1 do 7 wymiarów\n",
    "# przykład dwuwymiaowej\n",
    "\n",
    "baseball = [[180, 78.4],\n",
    "            [215, 102.7],\n",
    "            [210, 98.5],\n",
    "            [188, 75.2]]\n",
    "\n",
    "# Create a 2D numpy array from baseball: np_baseball\n",
    "\n",
    "np_baseball = np.array(baseball)\n",
    "\n",
    "# Print out the type of np_baseball\n",
    "\n",
    "print(type(np_baseball))\n",
    "\n",
    "# Print out the shape of np_baseball\n",
    "\n",
    "print(np_baseball.shape)\n",
    "\n",
    "\n",
    "print(baseball)\n",
    "print(np_baseball)"
   ]
  },
  {
   "cell_type": "code",
   "execution_count": null,
   "id": "6051c8a8-b973-4ebf-8bdd-53c5af08e4f7",
   "metadata": {},
   "outputs": [],
   "source": [
    "# wyjmowanie wartości z array\n",
    "\n",
    "# Import numpy package\n",
    "import numpy as np\n",
    "\n",
    "# Create np_baseball (2 cols)\n",
    "np_baseball = np.array(baseball)\n",
    "\n",
    "# Print out the 50th row of np_baseball\n",
    "\n",
    "print(np_baseball[49])\n",
    "\n",
    "# Select the entire second column of np_baseball: np_weight_lb\n",
    "\n",
    "np_weight_lb = np_baseball[:,1]\n",
    "np_weight_lb\n",
    "\n",
    "# Print out height of 124th player\n",
    "\n",
    "print(np_baseball[123,0])"
   ]
  },
  {
   "cell_type": "code",
   "execution_count": 6,
   "id": "e6995525-9d20-42e0-aab3-d24daf4991f7",
   "metadata": {},
   "outputs": [
    {
     "data": {
      "text/plain": [
       "1.0"
      ]
     },
     "execution_count": 6,
     "metadata": {},
     "output_type": "execute_result"
    }
   ],
   "source": [
    "#korelacja corrcoef\n",
    "\n",
    "import numpy as np\n",
    "\n",
    "x = np.array([1 , 2 , 3 , 4 , 5 , 6])\n",
    "y = np.arrau([2 , 3 , 4 , 5 , 6 , 7])\n",
    "np.corrcoef(x,y)"
   ]
  }
 ],
 "metadata": {
  "kernelspec": {
   "display_name": "Python 3 (ipykernel)",
   "language": "python",
   "name": "python3"
  },
  "language_info": {
   "codemirror_mode": {
    "name": "ipython",
    "version": 3
   },
   "file_extension": ".py",
   "mimetype": "text/x-python",
   "name": "python",
   "nbconvert_exporter": "python",
   "pygments_lexer": "ipython3",
   "version": "3.11.5"
  }
 },
 "nbformat": 4,
 "nbformat_minor": 5
}
