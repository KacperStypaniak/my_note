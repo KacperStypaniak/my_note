{
 "cells": [
  {
   "cell_type": "code",
   "execution_count": 208,
   "id": "aaa42cdd-7232-4f16-b1ff-455c26f3fa05",
   "metadata": {},
   "outputs": [
    {
     "data": {
      "text/plain": [
       "0.34079598201082795"
      ]
     },
     "execution_count": 208,
     "metadata": {},
     "output_type": "execute_result"
    }
   ],
   "source": [
    "import numpy as np\n",
    "\n",
    "np.random.rand()\n",
    "\n",
    "# w takim wypadku seed jest ustalany przez pythona samodzielnie"
   ]
  },
  {
   "cell_type": "code",
   "execution_count": 209,
   "id": "3396fce9-f0a3-4ae7-abdc-a8e5bfe6e559",
   "metadata": {},
   "outputs": [
    {
     "name": "stdout",
     "output_type": "stream",
     "text": [
      "0.6964691855978616\n",
      "0.28613933495037946\n",
      "0.2268514535642031\n",
      "0.5513147690828912\n",
      "0.7194689697855631\n"
     ]
    }
   ],
   "source": [
    "np.random.seed(123)\n",
    "\n",
    "print(np.random.rand())\n",
    "print(np.random.rand())\n",
    "print(np.random.rand())\n",
    "print(np.random.rand())\n",
    "print(np.random.rand())\n",
    "\n",
    "# jak ustalimy seed samodzielnie to wyniki będą zawsze takie same!\n"
   ]
  },
  {
   "cell_type": "code",
   "execution_count": 210,
   "id": "924ecb37-a177-4414-89ae-2ace21a5300e",
   "metadata": {},
   "outputs": [
    {
     "data": {
      "text/plain": [
       "1"
      ]
     },
     "execution_count": 210,
     "metadata": {},
     "output_type": "execute_result"
    }
   ],
   "source": [
    "#liczba pseudolosowa pomiędzy intami\n",
    "\n",
    "np.random.randint(0,2) # 2 już się nie łapie, więc 'losowanie' odbywa się między 0 a 1\n"
   ]
  },
  {
   "cell_type": "code",
   "execution_count": 211,
   "id": "d9fe76c7-28c3-4dc0-9d85-39fc0f20392c",
   "metadata": {},
   "outputs": [
    {
     "name": "stdout",
     "output_type": "stream",
     "text": [
      "[1, 0, 1, 0, 1, 0, 1, 1, 0, 0, 0, 1, 1, 1, 0, 1, 0, 0, 0, 0, 1, 1, 1, 0, 0, 1, 0, 0, 1, 0, 1, 0, 1, 1, 1, 0, 0, 0, 0, 1, 1, 0, 0, 1, 0, 1, 0, 0, 1, 0, 1, 0, 1, 0, 0, 0, 0, 1, 0, 0, 1, 1, 1, 1, 0, 0, 0, 0, 1, 1, 0, 0, 0, 0, 1, 0, 1, 1, 0, 1, 1, 1, 0, 1, 1, 1, 0, 0, 0, 1, 0, 0, 1, 1, 1, 0, 1, 1, 0, 0]\n",
      "53\n",
      "47\n"
     ]
    }
   ],
   "source": [
    "lista = []\n",
    "\n",
    "for i in range(100):\n",
    "    r = np.random.randint(0,2)\n",
    "    lista = lista + [r]\n",
    "\n",
    "print(lista)\n",
    "\n",
    "# lista = np.array(lista)\n",
    "# jedynki = np.count_nonzero(lista)\n",
    "# jedynki\n",
    "\n",
    "print(lista.count(0))\n",
    "print(lista.count(1))\n"
   ]
  },
  {
   "cell_type": "code",
   "execution_count": 1,
   "id": "5b49a4d9-e148-49e2-80b1-5ee69f9ffd54",
   "metadata": {},
   "outputs": [
    {
     "data": {
      "text/html": [
       "<div>\n",
       "<style scoped>\n",
       "    .dataframe tbody tr th:only-of-type {\n",
       "        vertical-align: middle;\n",
       "    }\n",
       "\n",
       "    .dataframe tbody tr th {\n",
       "        vertical-align: top;\n",
       "    }\n",
       "\n",
       "    .dataframe thead th {\n",
       "        text-align: right;\n",
       "    }\n",
       "</style>\n",
       "<table border=\"1\" class=\"dataframe\">\n",
       "  <thead>\n",
       "    <tr style=\"text-align: right;\">\n",
       "      <th></th>\n",
       "      <th>Seria</th>\n",
       "      <th>Tura</th>\n",
       "      <th>Rzut</th>\n",
       "      <th>Stopnie</th>\n",
       "      <th>Specjalny?</th>\n",
       "    </tr>\n",
       "  </thead>\n",
       "  <tbody>\n",
       "    <tr>\n",
       "      <th>0</th>\n",
       "      <td>1.0</td>\n",
       "      <td>1.0</td>\n",
       "      <td>5.0</td>\n",
       "      <td>1.0</td>\n",
       "      <td></td>\n",
       "    </tr>\n",
       "    <tr>\n",
       "      <th>1</th>\n",
       "      <td>1.0</td>\n",
       "      <td>2.0</td>\n",
       "      <td>4.0</td>\n",
       "      <td>2.0</td>\n",
       "      <td></td>\n",
       "    </tr>\n",
       "    <tr>\n",
       "      <th>2</th>\n",
       "      <td>1.0</td>\n",
       "      <td>3.0</td>\n",
       "      <td>4.0</td>\n",
       "      <td>3.0</td>\n",
       "      <td></td>\n",
       "    </tr>\n",
       "    <tr>\n",
       "      <th>3</th>\n",
       "      <td>1.0</td>\n",
       "      <td>4.0</td>\n",
       "      <td>4.0</td>\n",
       "      <td>4.0</td>\n",
       "      <td></td>\n",
       "    </tr>\n",
       "    <tr>\n",
       "      <th>4</th>\n",
       "      <td>1.0</td>\n",
       "      <td>5.0</td>\n",
       "      <td>2.0</td>\n",
       "      <td>3.0</td>\n",
       "      <td></td>\n",
       "    </tr>\n",
       "    <tr>\n",
       "      <th>...</th>\n",
       "      <td>...</td>\n",
       "      <td>...</td>\n",
       "      <td>...</td>\n",
       "      <td>...</td>\n",
       "      <td>...</td>\n",
       "    </tr>\n",
       "    <tr>\n",
       "      <th>8751</th>\n",
       "      <td>100.0</td>\n",
       "      <td>96.0</td>\n",
       "      <td>3.0</td>\n",
       "      <td>55.0</td>\n",
       "      <td></td>\n",
       "    </tr>\n",
       "    <tr>\n",
       "      <th>8752</th>\n",
       "      <td>100.0</td>\n",
       "      <td>97.0</td>\n",
       "      <td>5.0</td>\n",
       "      <td>56.0</td>\n",
       "      <td></td>\n",
       "    </tr>\n",
       "    <tr>\n",
       "      <th>8753</th>\n",
       "      <td>100.0</td>\n",
       "      <td>98.0</td>\n",
       "      <td>4.0</td>\n",
       "      <td>57.0</td>\n",
       "      <td></td>\n",
       "    </tr>\n",
       "    <tr>\n",
       "      <th>8754</th>\n",
       "      <td>100.0</td>\n",
       "      <td>99.0</td>\n",
       "      <td>4.0</td>\n",
       "      <td>58.0</td>\n",
       "      <td></td>\n",
       "    </tr>\n",
       "    <tr>\n",
       "      <th>8755</th>\n",
       "      <td>100.0</td>\n",
       "      <td>100.0</td>\n",
       "      <td>1.0</td>\n",
       "      <td>57.0</td>\n",
       "      <td></td>\n",
       "    </tr>\n",
       "  </tbody>\n",
       "</table>\n",
       "<p>8756 rows × 5 columns</p>\n",
       "</div>"
      ],
      "text/plain": [
       "      Seria   Tura  Rzut  Stopnie Specjalny?\n",
       "0       1.0    1.0   5.0      1.0           \n",
       "1       1.0    2.0   4.0      2.0           \n",
       "2       1.0    3.0   4.0      3.0           \n",
       "3       1.0    4.0   4.0      4.0           \n",
       "4       1.0    5.0   2.0      3.0           \n",
       "...     ...    ...   ...      ...        ...\n",
       "8751  100.0   96.0   3.0     55.0           \n",
       "8752  100.0   97.0   5.0     56.0           \n",
       "8753  100.0   98.0   4.0     57.0           \n",
       "8754  100.0   99.0   4.0     58.0           \n",
       "8755  100.0  100.0   1.0     57.0           \n",
       "\n",
       "[8756 rows x 5 columns]"
      ]
     },
     "execution_count": 1,
     "metadata": {},
     "output_type": "execute_result"
    }
   ],
   "source": [
    "# 1,2 = -1\n",
    "# 3,4,5 = +1\n",
    "# 6 = kolejny ruch i + o tyle oczek ile wypadnie\n",
    "# max 100 rzutów\n",
    "# 60 stopni\n",
    "\n",
    "import numpy as np\n",
    "import pandas as pd\n",
    "\n",
    "wyniki = pd.DataFrame({'Seria':[],'Tura':[],'Rzut':[],'Stopnie':[],'Specjalny?':[]})\n",
    "\n",
    "seria = 0\n",
    "\n",
    "for serie in range(100):\n",
    "\n",
    "    seria = seria + 1\n",
    "    stopnie = 0\n",
    "    tury = 0\n",
    "\n",
    "    \n",
    "    \n",
    "    while tury < 100 and stopnie < 60:\n",
    "        \n",
    "        tury = tury + 1\n",
    "        rzut = np.random.randint(1,7)\n",
    "    \n",
    "        if rzut in (1,2) and stopnie > 0:\n",
    "            #odejmujemy 1 stopień i zapisujemy wynik\n",
    "            stopnie = stopnie - 1\n",
    "            wynik = pd.DataFrame([{'Seria': seria, 'Tura': tury,'Rzut': rzut,'Stopnie': stopnie,'Specjalny?': '' }])\n",
    "            wyniki = pd.concat([wyniki,wynik])\n",
    "        \n",
    "        if rzut in (3,4,5):\n",
    "            #dodajemy 1 stopień i zapisujemy wynik\n",
    "            stopnie = stopnie + 1\n",
    "            wynik = pd.DataFrame([{'Seria': seria, 'Tura': tury,'Rzut': rzut,'Stopnie': stopnie,'Specjalny?': '' }])\n",
    "            wyniki = pd.concat([wyniki,wynik])\n",
    "            \n",
    "        if rzut == 6:\n",
    "            # zapisujemy 6\n",
    "            wynik = pd.DataFrame([{'Seria': seria, 'Tura': tury,'Rzut': rzut,'Stopnie': stopnie,'Specjalny?': '' }])\n",
    "            wyniki = pd.concat([wyniki,wynik])\n",
    "\n",
    "            if tury < 100:\n",
    "            # dodajemy turę i wykonujemy dodatkowy rzut po czym go zapisujemy\n",
    "                tury = tury + 1\n",
    "                rzut = np.random.randint(1,7)\n",
    "                stopnie = stopnie + rzut\n",
    "                wynik = pd.DataFrame([{'Seria': seria, 'Tura': tury,'Rzut': rzut,'Stopnie': stopnie,'Specjalny?': 'Tak' }])\n",
    "                wyniki = pd.concat([wyniki,wynik])\n",
    "\n",
    "    \n",
    "\n",
    "wyniki = wyniki.reset_index(drop = True)\n",
    "wyniki"
   ]
  },
  {
   "cell_type": "code",
   "execution_count": 2,
   "id": "5b369854-cba0-4f12-a667-bd9462cd6b1e",
   "metadata": {},
   "outputs": [
    {
     "name": "stdout",
     "output_type": "stream",
     "text": [
      "    Seria   Tura  Rzut  Stopnie Specjalny? Zwyciestwo_lub_porazka\n",
      "0     1.0   92.0   6.0     65.0        Tak             Zwyciestwo\n",
      "1     2.0  100.0   5.0     59.0                           Porazka\n",
      "2     3.0   95.0   4.0     60.0                        Zwyciestwo\n",
      "3     4.0  100.0   1.0     51.0                           Porazka\n",
      "4     5.0   74.0   6.0     63.0        Tak             Zwyciestwo\n",
      "..    ...    ...   ...      ...        ...                    ...\n",
      "95   96.0   97.0   5.0     60.0                        Zwyciestwo\n",
      "96   97.0  100.0   1.0     46.0                           Porazka\n",
      "97   98.0   66.0   4.0     62.0        Tak             Zwyciestwo\n",
      "98   99.0   96.0   6.0     62.0        Tak             Zwyciestwo\n",
      "99  100.0  100.0   1.0     57.0                           Porazka\n",
      "\n",
      "[100 rows x 6 columns]\n"
     ]
    },
    {
     "data": {
      "text/plain": [
       "Text(0.5, 0, 'Seria')"
      ]
     },
     "execution_count": 2,
     "metadata": {},
     "output_type": "execute_result"
    },
    {
     "data": {
      "image/png": "[encoded data removed]",
      "text/plain": [
       "<Figure size 640x480 with 1 Axes>"
      ]
     },
     "metadata": {},
     "output_type": "display_data"
    }
   ],
   "source": [
    "# zwyciestwa = wyniki[wyniki['Stopnie'] >= 60]['Seria'].count()\n",
    "# print(zwyciestwa)\n",
    "\n",
    "# porazki = wyniki[np.logical_and(wyniki['Stopnie'] < 60, wyniki['Tura'] == 100)]['Seria'].count()\n",
    "# print(porazki)\n",
    "\n",
    "\n",
    "podsumowanie = wyniki[np.logical_or(wyniki['Stopnie'] >= 60, wyniki['Tura'] == 100)]\n",
    "\n",
    "podsumowanie = podsumowanie.reset_index(drop = True)\n",
    "podsumowanie['Zwyciestwo_lub_porazka'] =  np.where(podsumowanie['Stopnie'] >= 60, 'Zwyciestwo', 'Porazka')\n",
    "\n",
    "print(podsumowanie)\n",
    "\n",
    "import matplotlib.pyplot as plt\n",
    "\n",
    "plt.scatter(podsumowanie['Seria'],podsumowanie['Zwyciestwo_lub_porazka'])\n",
    "plt.xlabel('Seria')\n",
    "# plt.show()\n",
    "\n"
   ]
  },
  {
   "cell_type": "code",
   "execution_count": null,
   "id": "63c0cddd-9ffa-426f-a3c6-089b1f5df91e",
   "metadata": {},
   "outputs": [],
   "source": []
  }
 ],
 "metadata": {
  "kernelspec": {
   "display_name": "Python 3 (ipykernel)",
   "language": "python",
   "name": "python3"
  },
  "language_info": {
   "codemirror_mode": {
    "name": "ipython",
    "version": 3
   },
   "file_extension": ".py",
   "mimetype": "text/x-python",
   "name": "python",
   "nbconvert_exporter": "python",
   "pygments_lexer": "ipython3",
   "version": "3.11.5"
  }
 },
 "nbformat": 4,
 "nbformat_minor": 5
}
